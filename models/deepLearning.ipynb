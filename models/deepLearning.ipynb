{
 "cells": [
  {
   "cell_type": "code",
   "execution_count": 1,
   "id": "bb95ded8-dc1c-49e8-a927-87db752547bd",
   "metadata": {},
   "outputs": [],
   "source": [
    "import pandas as pd\n",
    "from sklearn.preprocessing import LabelEncoder as le\n",
    "from sklearn.model_selection import train_test_split as tts\n",
    "from tensorflow import keras\n",
    "from keras.models import Sequential as seq\n",
    "from keras.layers import Dense as dense"
   ]
  },
  {
   "cell_type": "code",
   "execution_count": 2,
   "id": "266f29d8-a9c2-4427-bf43-bc082751f7b4",
   "metadata": {},
   "outputs": [
    {
     "data": {
      "text/html": [
       "<div>\n",
       "<style scoped>\n",
       "    .dataframe tbody tr th:only-of-type {\n",
       "        vertical-align: middle;\n",
       "    }\n",
       "\n",
       "    .dataframe tbody tr th {\n",
       "        vertical-align: top;\n",
       "    }\n",
       "\n",
       "    .dataframe thead th {\n",
       "        text-align: right;\n",
       "    }\n",
       "</style>\n",
       "<table border=\"1\" class=\"dataframe\">\n",
       "  <thead>\n",
       "    <tr style=\"text-align: right;\">\n",
       "      <th></th>\n",
       "      <th>user_id</th>\n",
       "      <th>age</th>\n",
       "      <th>gender</th>\n",
       "      <th>occupation</th>\n",
       "      <th>work_mode</th>\n",
       "      <th>screen_time_hours</th>\n",
       "      <th>work_screen_hours</th>\n",
       "      <th>leisure_screen_hours</th>\n",
       "      <th>sleep_hours</th>\n",
       "      <th>sleep_quality_1_5</th>\n",
       "      <th>exercise_minutes_per_week</th>\n",
       "      <th>social_hours_per_week</th>\n",
       "      <th>mental_wellness_grouped</th>\n",
       "      <th>stress_level_grouped</th>\n",
       "      <th>productivity_grouped</th>\n",
       "    </tr>\n",
       "  </thead>\n",
       "  <tbody>\n",
       "    <tr>\n",
       "      <th>0</th>\n",
       "      <td>U0001</td>\n",
       "      <td>33</td>\n",
       "      <td>Female</td>\n",
       "      <td>Employed</td>\n",
       "      <td>Remote</td>\n",
       "      <td>10.79</td>\n",
       "      <td>5.44</td>\n",
       "      <td>5.35</td>\n",
       "      <td>6.63</td>\n",
       "      <td>1</td>\n",
       "      <td>127</td>\n",
       "      <td>0.7</td>\n",
       "      <td>bad_mental_health</td>\n",
       "      <td>High_stress</td>\n",
       "      <td>satisfiable_productivity</td>\n",
       "    </tr>\n",
       "    <tr>\n",
       "      <th>1</th>\n",
       "      <td>U0002</td>\n",
       "      <td>28</td>\n",
       "      <td>Female</td>\n",
       "      <td>Employed</td>\n",
       "      <td>In-person</td>\n",
       "      <td>7.40</td>\n",
       "      <td>0.37</td>\n",
       "      <td>7.03</td>\n",
       "      <td>8.05</td>\n",
       "      <td>3</td>\n",
       "      <td>74</td>\n",
       "      <td>2.1</td>\n",
       "      <td>average_mental_health</td>\n",
       "      <td>manageble_stress</td>\n",
       "      <td>peak_productivity</td>\n",
       "    </tr>\n",
       "  </tbody>\n",
       "</table>\n",
       "</div>"
      ],
      "text/plain": [
       "  user_id  age  gender occupation  work_mode  screen_time_hours  \\\n",
       "0   U0001   33  Female   Employed     Remote              10.79   \n",
       "1   U0002   28  Female   Employed  In-person               7.40   \n",
       "\n",
       "   work_screen_hours  leisure_screen_hours  sleep_hours  sleep_quality_1_5  \\\n",
       "0               5.44                  5.35         6.63                  1   \n",
       "1               0.37                  7.03         8.05                  3   \n",
       "\n",
       "   exercise_minutes_per_week  social_hours_per_week mental_wellness_grouped  \\\n",
       "0                        127                    0.7       bad_mental_health   \n",
       "1                         74                    2.1   average_mental_health   \n",
       "\n",
       "  stress_level_grouped      productivity_grouped  \n",
       "0          High_stress  satisfiable_productivity  \n",
       "1     manageble_stress         peak_productivity  "
      ]
     },
     "execution_count": 2,
     "metadata": {},
     "output_type": "execute_result"
    }
   ],
   "source": [
    "df = pd.read_csv(\"../data/mental_wellness.csv\")\n",
    "mentalHealthGroups = [\"bad_mental_health\",\"average_mental_health\",\"good_mental_health\"]\n",
    "mentalHealthBounderies = [0,33,66,100]\n",
    "stressLevelGroups = [\"Low_stress\",\"manageble_stress\",\"High_stress\"]\n",
    "stressLevelBounderies = [0,3,6,10]\n",
    "productivityGroups = [\"no_productivity\",\"satisfiable_productivity\",\"peak_productivity\"]\n",
    "productivityBounderies = [0,33,66,100]\n",
    "df[\"mental_wellness_grouped\"] = pd.cut(df[\"mental_wellness_index_0_100\"],bins=mentalHealthBounderies,labels=mentalHealthGroups,include_lowest=True)\n",
    "df[\"stress_level_grouped\"] = pd.cut(df[\"stress_level_0_10\"],bins=stressLevelBounderies,labels=stressLevelGroups,include_lowest=True)\n",
    "df[\"productivity_grouped\"] = pd.cut(df[\"productivity_0_100\"],bins=productivityBounderies,labels=productivityGroups,include_lowest=True)\n",
    "df = df.drop([\"mental_wellness_index_0_100\",\"stress_level_0_10\",\"productivity_0_100\",\"Unnamed: 15\"],axis=1)\n",
    "df.head(2)"
   ]
  },
  {
   "cell_type": "code",
   "execution_count": 3,
   "id": "135e19cd-4359-437a-b325-fa7a2e67fc6f",
   "metadata": {},
   "outputs": [
    {
     "data": {
      "text/html": [
       "<div>\n",
       "<style scoped>\n",
       "    .dataframe tbody tr th:only-of-type {\n",
       "        vertical-align: middle;\n",
       "    }\n",
       "\n",
       "    .dataframe tbody tr th {\n",
       "        vertical-align: top;\n",
       "    }\n",
       "\n",
       "    .dataframe thead th {\n",
       "        text-align: right;\n",
       "    }\n",
       "</style>\n",
       "<table border=\"1\" class=\"dataframe\">\n",
       "  <thead>\n",
       "    <tr style=\"text-align: right;\">\n",
       "      <th></th>\n",
       "      <th>age</th>\n",
       "      <th>screen_time_hours</th>\n",
       "      <th>work_screen_hours</th>\n",
       "      <th>leisure_screen_hours</th>\n",
       "      <th>sleep_hours</th>\n",
       "      <th>sleep_quality_1_5</th>\n",
       "      <th>exercise_minutes_per_week</th>\n",
       "      <th>social_hours_per_week</th>\n",
       "      <th>gender_encoded</th>\n",
       "      <th>occupation_encoded</th>\n",
       "      <th>work_mode_encoded</th>\n",
       "      <th>stress_level_encoded</th>\n",
       "      <th>productivity_encoded</th>\n",
       "      <th>mental_wellness_grouped_encoded</th>\n",
       "    </tr>\n",
       "  </thead>\n",
       "  <tbody>\n",
       "    <tr>\n",
       "      <th>0</th>\n",
       "      <td>33</td>\n",
       "      <td>10.79</td>\n",
       "      <td>5.44</td>\n",
       "      <td>5.35</td>\n",
       "      <td>6.63</td>\n",
       "      <td>1</td>\n",
       "      <td>127</td>\n",
       "      <td>0.7</td>\n",
       "      <td>0</td>\n",
       "      <td>0</td>\n",
       "      <td>2</td>\n",
       "      <td>0</td>\n",
       "      <td>2</td>\n",
       "      <td>1</td>\n",
       "    </tr>\n",
       "    <tr>\n",
       "      <th>1</th>\n",
       "      <td>28</td>\n",
       "      <td>7.40</td>\n",
       "      <td>0.37</td>\n",
       "      <td>7.03</td>\n",
       "      <td>8.05</td>\n",
       "      <td>3</td>\n",
       "      <td>74</td>\n",
       "      <td>2.1</td>\n",
       "      <td>0</td>\n",
       "      <td>0</td>\n",
       "      <td>1</td>\n",
       "      <td>2</td>\n",
       "      <td>1</td>\n",
       "      <td>0</td>\n",
       "    </tr>\n",
       "  </tbody>\n",
       "</table>\n",
       "</div>"
      ],
      "text/plain": [
       "   age  screen_time_hours  work_screen_hours  leisure_screen_hours  \\\n",
       "0   33              10.79               5.44                  5.35   \n",
       "1   28               7.40               0.37                  7.03   \n",
       "\n",
       "   sleep_hours  sleep_quality_1_5  exercise_minutes_per_week  \\\n",
       "0         6.63                  1                        127   \n",
       "1         8.05                  3                         74   \n",
       "\n",
       "   social_hours_per_week  gender_encoded  occupation_encoded  \\\n",
       "0                    0.7               0                   0   \n",
       "1                    2.1               0                   0   \n",
       "\n",
       "   work_mode_encoded  stress_level_encoded  productivity_encoded  \\\n",
       "0                  2                     0                     2   \n",
       "1                  1                     2                     1   \n",
       "\n",
       "   mental_wellness_grouped_encoded  \n",
       "0                                1  \n",
       "1                                0  "
      ]
     },
     "execution_count": 3,
     "metadata": {},
     "output_type": "execute_result"
    }
   ],
   "source": [
    "encoder = le()\n",
    "df[\"gender_encoded\"] = encoder.fit_transform(df[\"gender\"])\n",
    "df[\"occupation_encoded\"] = encoder.fit_transform(df[\"occupation\"])\n",
    "df[\"work_mode_encoded\"] = encoder.fit_transform(df[\"work_mode\"])\n",
    "df[\"stress_level_encoded\"] = encoder.fit_transform(df[\"stress_level_grouped\"])\n",
    "df[\"productivity_encoded\"] = encoder.fit_transform(df[\"productivity_grouped\"])\n",
    "df[\"mental_wellness_grouped_encoded\"] = encoder.fit_transform(df[\"mental_wellness_grouped\"])\n",
    "df = df.drop([\"gender\",\"occupation\",\"work_mode\",\"user_id\",\"mental_wellness_grouped\",\"stress_level_grouped\",\"productivity_grouped\"],axis=1)\n",
    "df.head(2)"
   ]
  },
  {
   "cell_type": "code",
   "execution_count": 4,
   "id": "b35b442b-7368-4010-b917-2304c9214d49",
   "metadata": {},
   "outputs": [
    {
     "name": "stdout",
     "output_type": "stream",
     "text": [
      "(320, 13) (320,) (80, 13) (80,)\n"
     ]
    }
   ],
   "source": [
    "X = df.drop(\"mental_wellness_grouped_encoded\",axis=1)\n",
    "Y = df[\"mental_wellness_grouped_encoded\"]\n",
    "X_train,X_test,Y_train,Y_test = tts(X,Y,test_size=0.2,random_state=42)\n",
    "print(X_train.shape,Y_train.shape,X_test.shape,Y_test.shape)"
   ]
  },
  {
   "cell_type": "code",
   "execution_count": 5,
   "id": "9ef887e9-0330-49b1-b004-ebdcad5e927b",
   "metadata": {},
   "outputs": [
    {
     "name": "stdout",
     "output_type": "stream",
     "text": [
      "13\n"
     ]
    }
   ],
   "source": [
    "input_shape = X.shape[1]\n",
    "print(input_shape)"
   ]
  },
  {
   "cell_type": "code",
   "execution_count": 6,
   "id": "1b38c780-d051-447f-8863-242fe8080de4",
   "metadata": {},
   "outputs": [
    {
     "name": "stderr",
     "output_type": "stream",
     "text": [
      "E:\\data_ai\\final project\\finalProject\\Lib\\site-packages\\keras\\src\\layers\\core\\dense.py:95: UserWarning: Do not pass an `input_shape`/`input_dim` argument to a layer. When using Sequential models, prefer using an `Input(shape)` object as the first layer in the model instead.\n",
      "  super().__init__(activity_regularizer=activity_regularizer, **kwargs)\n"
     ]
    }
   ],
   "source": [
    "deepLearningModel = seq()\n",
    "deepLearningModel.add(dense(64,activation='relu',input_shape=(input_shape,) ))\n",
    "deepLearningModel.add(dense(32,activation='relu'))\n",
    "deepLearningModel.add(dense(16,activation='sigmoid'))\n",
    "deepLearningModel.add(dense(1,activation='relu'))\n",
    "deepLearningModel.compile(optimizer='adam',loss='crossentropy',metrics=['mae'])"
   ]
  },
  {
   "cell_type": "code",
   "execution_count": 7,
   "id": "80772c15-3156-4066-becc-1b9fa22a779f",
   "metadata": {},
   "outputs": [
    {
     "name": "stdout",
     "output_type": "stream",
     "text": [
      "Epoch 1/30\n",
      "\u001b[1m16/16\u001b[0m \u001b[32m━━━━━━━━━━━━━━━━━━━━\u001b[0m\u001b[37m\u001b[0m \u001b[1m5s\u001b[0m 6ms/step - loss: 1.0668 - mae: 0.3844 \n",
      "Epoch 2/30\n",
      "\u001b[1m16/16\u001b[0m \u001b[32m━━━━━━━━━━━━━━━━━━━━\u001b[0m\u001b[37m\u001b[0m \u001b[1m0s\u001b[0m 5ms/step - loss: 0.8478 - mae: 0.3155  \n",
      "Epoch 3/30\n",
      "\u001b[1m16/16\u001b[0m \u001b[32m━━━━━━━━━━━━━━━━━━━━\u001b[0m\u001b[37m\u001b[0m \u001b[1m0s\u001b[0m 5ms/step - loss: 0.4082 - mae: 0.3433 \n",
      "Epoch 4/30\n",
      "\u001b[1m16/16\u001b[0m \u001b[32m━━━━━━━━━━━━━━━━━━━━\u001b[0m\u001b[37m\u001b[0m \u001b[1m0s\u001b[0m 5ms/step - loss: 0.3689 - mae: 0.2976 \n",
      "Epoch 5/30\n",
      "\u001b[1m16/16\u001b[0m \u001b[32m━━━━━━━━━━━━━━━━━━━━\u001b[0m\u001b[37m\u001b[0m \u001b[1m0s\u001b[0m 4ms/step - loss: 0.3674 - mae: 0.2826 \n",
      "Epoch 6/30\n",
      "\u001b[1m16/16\u001b[0m \u001b[32m━━━━━━━━━━━━━━━━━━━━\u001b[0m\u001b[37m\u001b[0m \u001b[1m0s\u001b[0m 4ms/step - loss: 0.3822 - mae: 0.3221 \n",
      "Epoch 7/30\n",
      "\u001b[1m16/16\u001b[0m \u001b[32m━━━━━━━━━━━━━━━━━━━━\u001b[0m\u001b[37m\u001b[0m \u001b[1m0s\u001b[0m 4ms/step - loss: 0.4508 - mae: 0.3295 \n",
      "Epoch 8/30\n",
      "\u001b[1m16/16\u001b[0m \u001b[32m━━━━━━━━━━━━━━━━━━━━\u001b[0m\u001b[37m\u001b[0m \u001b[1m0s\u001b[0m 8ms/step - loss: 0.3787 - mae: 0.3055 \n",
      "Epoch 9/30\n",
      "\u001b[1m16/16\u001b[0m \u001b[32m━━━━━━━━━━━━━━━━━━━━\u001b[0m\u001b[37m\u001b[0m \u001b[1m0s\u001b[0m 6ms/step - loss: 0.3912 - mae: 0.3361\n",
      "Epoch 10/30\n",
      "\u001b[1m16/16\u001b[0m \u001b[32m━━━━━━━━━━━━━━━━━━━━\u001b[0m\u001b[37m\u001b[0m \u001b[1m0s\u001b[0m 4ms/step - loss: 0.3920 - mae: 0.3022 \n",
      "Epoch 11/30\n",
      "\u001b[1m16/16\u001b[0m \u001b[32m━━━━━━━━━━━━━━━━━━━━\u001b[0m\u001b[37m\u001b[0m \u001b[1m0s\u001b[0m 4ms/step - loss: 0.4853 - mae: 0.2838 \n",
      "Epoch 12/30\n",
      "\u001b[1m16/16\u001b[0m \u001b[32m━━━━━━━━━━━━━━━━━━━━\u001b[0m\u001b[37m\u001b[0m \u001b[1m0s\u001b[0m 4ms/step - loss: 0.3860 - mae: 0.3302 \n",
      "Epoch 13/30\n",
      "\u001b[1m16/16\u001b[0m \u001b[32m━━━━━━━━━━━━━━━━━━━━\u001b[0m\u001b[37m\u001b[0m \u001b[1m0s\u001b[0m 5ms/step - loss: 0.3679 - mae: 0.3186 \n",
      "Epoch 14/30\n",
      "\u001b[1m16/16\u001b[0m \u001b[32m━━━━━━━━━━━━━━━━━━━━\u001b[0m\u001b[37m\u001b[0m \u001b[1m0s\u001b[0m 5ms/step - loss: 0.2995 - mae: 0.2730 \n",
      "Epoch 15/30\n",
      "\u001b[1m16/16\u001b[0m \u001b[32m━━━━━━━━━━━━━━━━━━━━\u001b[0m\u001b[37m\u001b[0m \u001b[1m0s\u001b[0m 4ms/step - loss: 0.2969 - mae: 0.2724 \n",
      "Epoch 16/30\n",
      "\u001b[1m16/16\u001b[0m \u001b[32m━━━━━━━━━━━━━━━━━━━━\u001b[0m\u001b[37m\u001b[0m \u001b[1m0s\u001b[0m 4ms/step - loss: 0.2908 - mae: 0.2739 \n",
      "Epoch 17/30\n",
      "\u001b[1m16/16\u001b[0m \u001b[32m━━━━━━━━━━━━━━━━━━━━\u001b[0m\u001b[37m\u001b[0m \u001b[1m0s\u001b[0m 4ms/step - loss: 0.2895 - mae: 0.2711 \n",
      "Epoch 18/30\n",
      "\u001b[1m16/16\u001b[0m \u001b[32m━━━━━━━━━━━━━━━━━━━━\u001b[0m\u001b[37m\u001b[0m \u001b[1m0s\u001b[0m 4ms/step - loss: 0.2905 - mae: 0.2733 \n",
      "Epoch 19/30\n",
      "\u001b[1m16/16\u001b[0m \u001b[32m━━━━━━━━━━━━━━━━━━━━\u001b[0m\u001b[37m\u001b[0m \u001b[1m0s\u001b[0m 4ms/step - loss: 0.2897 - mae: 0.2754 \n",
      "Epoch 20/30\n",
      "\u001b[1m16/16\u001b[0m \u001b[32m━━━━━━━━━━━━━━━━━━━━\u001b[0m\u001b[37m\u001b[0m \u001b[1m0s\u001b[0m 4ms/step - loss: 0.7360 - mae: 0.3114 \n",
      "Epoch 21/30\n",
      "\u001b[1m16/16\u001b[0m \u001b[32m━━━━━━━━━━━━━━━━━━━━\u001b[0m\u001b[37m\u001b[0m \u001b[1m0s\u001b[0m 4ms/step - loss: 2.1017 - mae: 0.5991 \n",
      "Epoch 22/30\n",
      "\u001b[1m16/16\u001b[0m \u001b[32m━━━━━━━━━━━━━━━━━━━━\u001b[0m\u001b[37m\u001b[0m \u001b[1m0s\u001b[0m 4ms/step - loss: 2.1029 - mae: 0.6216 \n",
      "Epoch 23/30\n",
      "\u001b[1m16/16\u001b[0m \u001b[32m━━━━━━━━━━━━━━━━━━━━\u001b[0m\u001b[37m\u001b[0m \u001b[1m0s\u001b[0m 4ms/step - loss: 2.0993 - mae: 0.6046 \n",
      "Epoch 24/30\n",
      "\u001b[1m16/16\u001b[0m \u001b[32m━━━━━━━━━━━━━━━━━━━━\u001b[0m\u001b[37m\u001b[0m \u001b[1m0s\u001b[0m 4ms/step - loss: 2.0545 - mae: 0.5999     \n",
      "Epoch 25/30\n",
      "\u001b[1m16/16\u001b[0m \u001b[32m━━━━━━━━━━━━━━━━━━━━\u001b[0m\u001b[37m\u001b[0m \u001b[1m0s\u001b[0m 4ms/step - loss: 2.0541 - mae: 0.6026 \n",
      "Epoch 26/30\n",
      "\u001b[1m16/16\u001b[0m \u001b[32m━━━━━━━━━━━━━━━━━━━━\u001b[0m\u001b[37m\u001b[0m \u001b[1m0s\u001b[0m 5ms/step - loss: 2.0509 - mae: 0.6025 \n",
      "Epoch 27/30\n",
      "\u001b[1m16/16\u001b[0m \u001b[32m━━━━━━━━━━━━━━━━━━━━\u001b[0m\u001b[37m\u001b[0m \u001b[1m0s\u001b[0m 5ms/step - loss: 2.0138 - mae: 0.6055  \n",
      "Epoch 28/30\n",
      "\u001b[1m16/16\u001b[0m \u001b[32m━━━━━━━━━━━━━━━━━━━━\u001b[0m\u001b[37m\u001b[0m \u001b[1m0s\u001b[0m 4ms/step - loss: 2.0109 - mae: 0.6011 \n",
      "Epoch 29/30\n",
      "\u001b[1m16/16\u001b[0m \u001b[32m━━━━━━━━━━━━━━━━━━━━\u001b[0m\u001b[37m\u001b[0m \u001b[1m0s\u001b[0m 4ms/step - loss: 2.0539 - mae: 0.6145 \n",
      "Epoch 30/30\n",
      "\u001b[1m16/16\u001b[0m \u001b[32m━━━━━━━━━━━━━━━━━━━━\u001b[0m\u001b[37m\u001b[0m \u001b[1m0s\u001b[0m 4ms/step - loss: 2.0983 - mae: 0.6486  \n"
     ]
    },
    {
     "data": {
      "text/plain": [
       "<keras.src.callbacks.history.History at 0x1c1548d9fd0>"
      ]
     },
     "execution_count": 7,
     "metadata": {},
     "output_type": "execute_result"
    }
   ],
   "source": [
    "deepLearningModel.fit(X_train,Y_train,epochs=30,verbose=1,batch_size = 20)"
   ]
  },
  {
   "cell_type": "code",
   "execution_count": 8,
   "id": "bf058c8e-de89-41bb-8529-d02d50153580",
   "metadata": {},
   "outputs": [
    {
     "name": "stdout",
     "output_type": "stream",
     "text": [
      "\u001b[1m3/3\u001b[0m \u001b[32m━━━━━━━━━━━━━━━━━━━━\u001b[0m\u001b[37m\u001b[0m \u001b[1m0s\u001b[0m 55ms/step\n",
      "[[1.3023856]\n",
      " [1.3475035]\n",
      " [1.5111879]\n",
      " [1.5538318]\n",
      " [1.5733181]] 209    1\n",
      "280    1\n",
      "33     1\n",
      "210    1\n",
      "93     1\n",
      "Name: mental_wellness_grouped_encoded, dtype: int64\n"
     ]
    }
   ],
   "source": [
    "Y_predict = deepLearningModel.predict(X_test)\n",
    "print(Y_predict[:5],Y_test[:5])"
   ]
  },
  {
   "cell_type": "code",
   "execution_count": 9,
   "id": "416bb9b2-afd8-4454-9c4a-f6286e377aca",
   "metadata": {},
   "outputs": [
    {
     "name": "stdout",
     "output_type": "stream",
     "text": [
      "\u001b[1m3/3\u001b[0m \u001b[32m━━━━━━━━━━━━━━━━━━━━\u001b[0m\u001b[37m\u001b[0m \u001b[1m0s\u001b[0m 18ms/step - loss: 2.3914 - mae: 0.6681 \n"
     ]
    },
    {
     "data": {
      "text/plain": [
       "[2.391357898712158, 0.6681352257728577]"
      ]
     },
     "execution_count": 9,
     "metadata": {},
     "output_type": "execute_result"
    }
   ],
   "source": [
    "deepLearningModel.evaluate(X_test,Y_test)"
   ]
  },
  {
   "cell_type": "code",
   "execution_count": null,
   "id": "add7430b-d61e-4731-a112-8f2fd224f217",
   "metadata": {},
   "outputs": [],
   "source": []
  }
 ],
 "metadata": {
  "kernelspec": {
   "display_name": "Python 3 (ipykernel)",
   "language": "python",
   "name": "python3"
  },
  "language_info": {
   "codemirror_mode": {
    "name": "ipython",
    "version": 3
   },
   "file_extension": ".py",
   "mimetype": "text/x-python",
   "name": "python",
   "nbconvert_exporter": "python",
   "pygments_lexer": "ipython3",
   "version": "3.13.2"
  }
 },
 "nbformat": 4,
 "nbformat_minor": 5
}
