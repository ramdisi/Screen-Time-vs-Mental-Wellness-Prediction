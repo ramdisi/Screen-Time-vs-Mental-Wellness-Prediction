{
 "cells": [
  {
   "cell_type": "code",
   "execution_count": 4,
   "id": "bb95ded8-dc1c-49e8-a927-87db752547bd",
   "metadata": {},
   "outputs": [],
   "source": [
    "import pandas as pd\n",
    "from sklearn.preprocessing import LabelEncoder as le\n",
    "from sklearn.model_selection import train_test_split as tts\n",
    "from tensorflow import keras\n",
    "from keras.models import Sequential as seq\n",
    "from keras.layers import Dense as dense"
   ]
  },
  {
   "cell_type": "code",
   "execution_count": 5,
   "id": "266f29d8-a9c2-4427-bf43-bc082751f7b4",
   "metadata": {},
   "outputs": [
    {
     "data": {
      "text/html": [
       "<div>\n",
       "<style scoped>\n",
       "    .dataframe tbody tr th:only-of-type {\n",
       "        vertical-align: middle;\n",
       "    }\n",
       "\n",
       "    .dataframe tbody tr th {\n",
       "        vertical-align: top;\n",
       "    }\n",
       "\n",
       "    .dataframe thead th {\n",
       "        text-align: right;\n",
       "    }\n",
       "</style>\n",
       "<table border=\"1\" class=\"dataframe\">\n",
       "  <thead>\n",
       "    <tr style=\"text-align: right;\">\n",
       "      <th></th>\n",
       "      <th>user_id</th>\n",
       "      <th>age</th>\n",
       "      <th>gender</th>\n",
       "      <th>occupation</th>\n",
       "      <th>work_mode</th>\n",
       "      <th>screen_time_hours</th>\n",
       "      <th>work_screen_hours</th>\n",
       "      <th>leisure_screen_hours</th>\n",
       "      <th>sleep_hours</th>\n",
       "      <th>sleep_quality_1_5</th>\n",
       "      <th>stress_level_0_10</th>\n",
       "      <th>productivity_0_100</th>\n",
       "      <th>exercise_minutes_per_week</th>\n",
       "      <th>social_hours_per_week</th>\n",
       "      <th>mental_wellness_index_0_100</th>\n",
       "      <th>Unnamed: 15</th>\n",
       "      <th>mental_wellness_grouped</th>\n",
       "    </tr>\n",
       "  </thead>\n",
       "  <tbody>\n",
       "    <tr>\n",
       "      <th>0</th>\n",
       "      <td>U0001</td>\n",
       "      <td>33</td>\n",
       "      <td>Female</td>\n",
       "      <td>Employed</td>\n",
       "      <td>Remote</td>\n",
       "      <td>10.79</td>\n",
       "      <td>5.44</td>\n",
       "      <td>5.35</td>\n",
       "      <td>6.63</td>\n",
       "      <td>1</td>\n",
       "      <td>9.3</td>\n",
       "      <td>44.7</td>\n",
       "      <td>127</td>\n",
       "      <td>0.7</td>\n",
       "      <td>9.3</td>\n",
       "      <td>NaN</td>\n",
       "      <td>bad_mental_health</td>\n",
       "    </tr>\n",
       "    <tr>\n",
       "      <th>1</th>\n",
       "      <td>U0002</td>\n",
       "      <td>28</td>\n",
       "      <td>Female</td>\n",
       "      <td>Employed</td>\n",
       "      <td>In-person</td>\n",
       "      <td>7.40</td>\n",
       "      <td>0.37</td>\n",
       "      <td>7.03</td>\n",
       "      <td>8.05</td>\n",
       "      <td>3</td>\n",
       "      <td>5.7</td>\n",
       "      <td>78.0</td>\n",
       "      <td>74</td>\n",
       "      <td>2.1</td>\n",
       "      <td>56.2</td>\n",
       "      <td>NaN</td>\n",
       "      <td>average_mental_health</td>\n",
       "    </tr>\n",
       "  </tbody>\n",
       "</table>\n",
       "</div>"
      ],
      "text/plain": [
       "  user_id  age  gender occupation  work_mode  screen_time_hours  \\\n",
       "0   U0001   33  Female   Employed     Remote              10.79   \n",
       "1   U0002   28  Female   Employed  In-person               7.40   \n",
       "\n",
       "   work_screen_hours  leisure_screen_hours  sleep_hours  sleep_quality_1_5  \\\n",
       "0               5.44                  5.35         6.63                  1   \n",
       "1               0.37                  7.03         8.05                  3   \n",
       "\n",
       "   stress_level_0_10  productivity_0_100  exercise_minutes_per_week  \\\n",
       "0                9.3                44.7                        127   \n",
       "1                5.7                78.0                         74   \n",
       "\n",
       "   social_hours_per_week  mental_wellness_index_0_100  Unnamed: 15  \\\n",
       "0                    0.7                          9.3          NaN   \n",
       "1                    2.1                         56.2          NaN   \n",
       "\n",
       "  mental_wellness_grouped  \n",
       "0       bad_mental_health  \n",
       "1   average_mental_health  "
      ]
     },
     "execution_count": 5,
     "metadata": {},
     "output_type": "execute_result"
    }
   ],
   "source": [
    "df = pd.read_csv(\"../data/mental_wellness.csv\")\n",
    "groups = [\"bad_mental_health\",\"average_mental_health\",\"good_mental_health\"]\n",
    "bounderies = [0,33,66,100]\n",
    "df[\"mental_wellness_grouped\"] = pd.cut(df[\"mental_wellness_index_0_100\"],bins=bounderies,labels=groups,include_lowest=True)\n",
    "df.head(2)"
   ]
  },
  {
   "cell_type": "code",
   "execution_count": 6,
   "id": "135e19cd-4359-437a-b325-fa7a2e67fc6f",
   "metadata": {},
   "outputs": [
    {
     "data": {
      "text/html": [
       "<div>\n",
       "<style scoped>\n",
       "    .dataframe tbody tr th:only-of-type {\n",
       "        vertical-align: middle;\n",
       "    }\n",
       "\n",
       "    .dataframe tbody tr th {\n",
       "        vertical-align: top;\n",
       "    }\n",
       "\n",
       "    .dataframe thead th {\n",
       "        text-align: right;\n",
       "    }\n",
       "</style>\n",
       "<table border=\"1\" class=\"dataframe\">\n",
       "  <thead>\n",
       "    <tr style=\"text-align: right;\">\n",
       "      <th></th>\n",
       "      <th>age</th>\n",
       "      <th>screen_time_hours</th>\n",
       "      <th>work_screen_hours</th>\n",
       "      <th>leisure_screen_hours</th>\n",
       "      <th>sleep_hours</th>\n",
       "      <th>sleep_quality_1_5</th>\n",
       "      <th>stress_level_0_10</th>\n",
       "      <th>productivity_0_100</th>\n",
       "      <th>exercise_minutes_per_week</th>\n",
       "      <th>social_hours_per_week</th>\n",
       "      <th>gender_encoded</th>\n",
       "      <th>occupation_encoded</th>\n",
       "      <th>work_mode_encoded</th>\n",
       "      <th>mental_wellness_grouped_encoded</th>\n",
       "    </tr>\n",
       "  </thead>\n",
       "  <tbody>\n",
       "    <tr>\n",
       "      <th>0</th>\n",
       "      <td>33</td>\n",
       "      <td>10.79</td>\n",
       "      <td>5.44</td>\n",
       "      <td>5.35</td>\n",
       "      <td>6.63</td>\n",
       "      <td>1</td>\n",
       "      <td>9.3</td>\n",
       "      <td>44.7</td>\n",
       "      <td>127</td>\n",
       "      <td>0.7</td>\n",
       "      <td>0</td>\n",
       "      <td>0</td>\n",
       "      <td>2</td>\n",
       "      <td>1</td>\n",
       "    </tr>\n",
       "    <tr>\n",
       "      <th>1</th>\n",
       "      <td>28</td>\n",
       "      <td>7.40</td>\n",
       "      <td>0.37</td>\n",
       "      <td>7.03</td>\n",
       "      <td>8.05</td>\n",
       "      <td>3</td>\n",
       "      <td>5.7</td>\n",
       "      <td>78.0</td>\n",
       "      <td>74</td>\n",
       "      <td>2.1</td>\n",
       "      <td>0</td>\n",
       "      <td>0</td>\n",
       "      <td>1</td>\n",
       "      <td>0</td>\n",
       "    </tr>\n",
       "  </tbody>\n",
       "</table>\n",
       "</div>"
      ],
      "text/plain": [
       "   age  screen_time_hours  work_screen_hours  leisure_screen_hours  \\\n",
       "0   33              10.79               5.44                  5.35   \n",
       "1   28               7.40               0.37                  7.03   \n",
       "\n",
       "   sleep_hours  sleep_quality_1_5  stress_level_0_10  productivity_0_100  \\\n",
       "0         6.63                  1                9.3                44.7   \n",
       "1         8.05                  3                5.7                78.0   \n",
       "\n",
       "   exercise_minutes_per_week  social_hours_per_week  gender_encoded  \\\n",
       "0                        127                    0.7               0   \n",
       "1                         74                    2.1               0   \n",
       "\n",
       "   occupation_encoded  work_mode_encoded  mental_wellness_grouped_encoded  \n",
       "0                   0                  2                                1  \n",
       "1                   0                  1                                0  "
      ]
     },
     "execution_count": 6,
     "metadata": {},
     "output_type": "execute_result"
    }
   ],
   "source": [
    "encoder = le()\n",
    "df[\"gender_encoded\"] = encoder.fit_transform(df[\"gender\"])\n",
    "df[\"occupation_encoded\"] = encoder.fit_transform(df[\"occupation\"])\n",
    "df[\"work_mode_encoded\"] = encoder.fit_transform(df[\"work_mode\"])\n",
    "df[\"mental_wellness_grouped_encoded\"] = encoder.fit_transform(df[\"mental_wellness_grouped\"])\n",
    "df = df.drop([\"Unnamed: 15\",\"gender\",\"occupation\",\"work_mode\",\"user_id\",\"mental_wellness_index_0_100\",\"mental_wellness_grouped\"],axis=1)\n",
    "df.head(2)"
   ]
  },
  {
   "cell_type": "code",
   "execution_count": 7,
   "id": "b35b442b-7368-4010-b917-2304c9214d49",
   "metadata": {},
   "outputs": [
    {
     "name": "stdout",
     "output_type": "stream",
     "text": [
      "(320, 13) (320,) (80, 13) (80,)\n"
     ]
    }
   ],
   "source": [
    "X = df.drop(\"mental_wellness_grouped_encoded\",axis=1)\n",
    "Y = df[\"mental_wellness_grouped_encoded\"]\n",
    "X_train,X_test,Y_train,Y_test = tts(X,Y,test_size=0.2,random_state=42)\n",
    "print(X_train.shape,Y_train.shape,X_test.shape,Y_test.shape)"
   ]
  },
  {
   "cell_type": "code",
   "execution_count": 11,
   "id": "9ef887e9-0330-49b1-b004-ebdcad5e927b",
   "metadata": {},
   "outputs": [
    {
     "name": "stdout",
     "output_type": "stream",
     "text": [
      "13\n"
     ]
    }
   ],
   "source": [
    "input_shape = X.shape[1]\n",
    "print(input_shape)"
   ]
  },
  {
   "cell_type": "code",
   "execution_count": 17,
   "id": "1b38c780-d051-447f-8863-242fe8080de4",
   "metadata": {},
   "outputs": [
    {
     "name": "stderr",
     "output_type": "stream",
     "text": [
      "E:\\data_ai\\final project\\finalProject\\Lib\\site-packages\\keras\\src\\layers\\core\\dense.py:95: UserWarning: Do not pass an `input_shape`/`input_dim` argument to a layer. When using Sequential models, prefer using an `Input(shape)` object as the first layer in the model instead.\n",
      "  super().__init__(activity_regularizer=activity_regularizer, **kwargs)\n"
     ]
    }
   ],
   "source": [
    "deepLearningModel = seq()\n",
    "deepLearningModel.add(dense(64,activation='relu',input_shape=(input_shape,) ))\n",
    "deepLearningModel.add(dense(32,activation='relu'))\n",
    "deepLearningModel.add(dense(16,activation='sigmoid'))\n",
    "deepLearningModel.add(dense(1,activation='relu'))\n",
    "deepLearningModel.compile(optimizer='adam',loss='crossentropy')"
   ]
  },
  {
   "cell_type": "code",
   "execution_count": 18,
   "id": "80772c15-3156-4066-becc-1b9fa22a779f",
   "metadata": {},
   "outputs": [
    {
     "name": "stdout",
     "output_type": "stream",
     "text": [
      "Epoch 1/20\n",
      "\u001b[1m10/10\u001b[0m \u001b[32m━━━━━━━━━━━━━━━━━━━━\u001b[0m\u001b[37m\u001b[0m \u001b[1m4s\u001b[0m 10ms/step - loss: 0.6521\n",
      "Epoch 2/20\n",
      "\u001b[1m10/10\u001b[0m \u001b[32m━━━━━━━━━━━━━━━━━━━━\u001b[0m\u001b[37m\u001b[0m \u001b[1m0s\u001b[0m 5ms/step - loss: 0.4155 \n",
      "Epoch 3/20\n",
      "\u001b[1m10/10\u001b[0m \u001b[32m━━━━━━━━━━━━━━━━━━━━\u001b[0m\u001b[37m\u001b[0m \u001b[1m0s\u001b[0m 5ms/step - loss: 0.3989 \n",
      "Epoch 4/20\n",
      "\u001b[1m10/10\u001b[0m \u001b[32m━━━━━━━━━━━━━━━━━━━━\u001b[0m\u001b[37m\u001b[0m \u001b[1m0s\u001b[0m 5ms/step - loss: 0.3726 \n",
      "Epoch 5/20\n",
      "\u001b[1m10/10\u001b[0m \u001b[32m━━━━━━━━━━━━━━━━━━━━\u001b[0m\u001b[37m\u001b[0m \u001b[1m0s\u001b[0m 5ms/step - loss: 0.3337 \n",
      "Epoch 6/20\n",
      "\u001b[1m10/10\u001b[0m \u001b[32m━━━━━━━━━━━━━━━━━━━━\u001b[0m\u001b[37m\u001b[0m \u001b[1m0s\u001b[0m 5ms/step - loss: 0.2732 \n",
      "Epoch 7/20\n",
      "\u001b[1m10/10\u001b[0m \u001b[32m━━━━━━━━━━━━━━━━━━━━\u001b[0m\u001b[37m\u001b[0m \u001b[1m0s\u001b[0m 5ms/step - loss: 0.2644 \n",
      "Epoch 8/20\n",
      "\u001b[1m10/10\u001b[0m \u001b[32m━━━━━━━━━━━━━━━━━━━━\u001b[0m\u001b[37m\u001b[0m \u001b[1m0s\u001b[0m 5ms/step - loss: 0.4344 \n",
      "Epoch 9/20\n",
      "\u001b[1m10/10\u001b[0m \u001b[32m━━━━━━━━━━━━━━━━━━━━\u001b[0m\u001b[37m\u001b[0m \u001b[1m0s\u001b[0m 5ms/step - loss: 0.3493 \n",
      "Epoch 10/20\n",
      "\u001b[1m10/10\u001b[0m \u001b[32m━━━━━━━━━━━━━━━━━━━━\u001b[0m\u001b[37m\u001b[0m \u001b[1m0s\u001b[0m 6ms/step - loss: 0.3567 \n",
      "Epoch 11/20\n",
      "\u001b[1m10/10\u001b[0m \u001b[32m━━━━━━━━━━━━━━━━━━━━\u001b[0m\u001b[37m\u001b[0m \u001b[1m0s\u001b[0m 5ms/step - loss: 0.3539 \n",
      "Epoch 12/20\n",
      "\u001b[1m10/10\u001b[0m \u001b[32m━━━━━━━━━━━━━━━━━━━━\u001b[0m\u001b[37m\u001b[0m \u001b[1m0s\u001b[0m 5ms/step - loss: 0.3472 \n",
      "Epoch 13/20\n",
      "\u001b[1m10/10\u001b[0m \u001b[32m━━━━━━━━━━━━━━━━━━━━\u001b[0m\u001b[37m\u001b[0m \u001b[1m0s\u001b[0m 6ms/step - loss: 0.3330 \n",
      "Epoch 14/20\n",
      "\u001b[1m10/10\u001b[0m \u001b[32m━━━━━━━━━━━━━━━━━━━━\u001b[0m\u001b[37m\u001b[0m \u001b[1m0s\u001b[0m 6ms/step - loss: 0.3155 \n",
      "Epoch 15/20\n",
      "\u001b[1m10/10\u001b[0m \u001b[32m━━━━━━━━━━━━━━━━━━━━\u001b[0m\u001b[37m\u001b[0m \u001b[1m0s\u001b[0m 5ms/step - loss: 0.3139 \n",
      "Epoch 16/20\n",
      "\u001b[1m10/10\u001b[0m \u001b[32m━━━━━━━━━━━━━━━━━━━━\u001b[0m\u001b[37m\u001b[0m \u001b[1m0s\u001b[0m 6ms/step - loss: 0.2974 \n",
      "Epoch 17/20\n",
      "\u001b[1m10/10\u001b[0m \u001b[32m━━━━━━━━━━━━━━━━━━━━\u001b[0m\u001b[37m\u001b[0m \u001b[1m0s\u001b[0m 6ms/step - loss: 0.2979 \n",
      "Epoch 18/20\n",
      "\u001b[1m10/10\u001b[0m \u001b[32m━━━━━━━━━━━━━━━━━━━━\u001b[0m\u001b[37m\u001b[0m \u001b[1m0s\u001b[0m 9ms/step - loss: 0.2312  \n",
      "Epoch 19/20\n",
      "\u001b[1m10/10\u001b[0m \u001b[32m━━━━━━━━━━━━━━━━━━━━\u001b[0m\u001b[37m\u001b[0m \u001b[1m0s\u001b[0m 5ms/step - loss: 0.2574 \n",
      "Epoch 20/20\n",
      "\u001b[1m10/10\u001b[0m \u001b[32m━━━━━━━━━━━━━━━━━━━━\u001b[0m\u001b[37m\u001b[0m \u001b[1m0s\u001b[0m 5ms/step - loss: 0.2593 \n"
     ]
    },
    {
     "data": {
      "text/plain": [
       "<keras.src.callbacks.history.History at 0x203c50fc410>"
      ]
     },
     "execution_count": 18,
     "metadata": {},
     "output_type": "execute_result"
    }
   ],
   "source": [
    "deepLearningModel.fit(X_train,Y_train,epochs=20,verbose=1)"
   ]
  },
  {
   "cell_type": "code",
   "execution_count": 19,
   "id": "bf058c8e-de89-41bb-8529-d02d50153580",
   "metadata": {},
   "outputs": [
    {
     "name": "stdout",
     "output_type": "stream",
     "text": [
      "\u001b[1m3/3\u001b[0m \u001b[32m━━━━━━━━━━━━━━━━━━━━\u001b[0m\u001b[37m\u001b[0m \u001b[1m0s\u001b[0m 41ms/step\n",
      "[[1.52227  ]\n",
      " [1.3190248]\n",
      " [0.9379475]\n",
      " [1.3556464]\n",
      " [0.7210499]] 209    1\n",
      "280    1\n",
      "33     1\n",
      "210    1\n",
      "93     1\n",
      "Name: mental_wellness_grouped_encoded, dtype: int64\n"
     ]
    }
   ],
   "source": [
    "Y_predict = deepLearningModel.predict(X_test)\n",
    "print(Y_predict[:5],Y_test[:5])"
   ]
  },
  {
   "cell_type": "code",
   "execution_count": 21,
   "id": "416bb9b2-afd8-4454-9c4a-f6286e377aca",
   "metadata": {},
   "outputs": [
    {
     "name": "stdout",
     "output_type": "stream",
     "text": [
      "\u001b[1m3/3\u001b[0m \u001b[32m━━━━━━━━━━━━━━━━━━━━\u001b[0m\u001b[37m\u001b[0m \u001b[1m1s\u001b[0m 18ms/step - loss: 0.4879 \n"
     ]
    },
    {
     "data": {
      "text/plain": [
       "0.4878559112548828"
      ]
     },
     "execution_count": 21,
     "metadata": {},
     "output_type": "execute_result"
    }
   ],
   "source": [
    "deepLearningModel.evaluate(X_test,Y_test)"
   ]
  },
  {
   "cell_type": "code",
   "execution_count": null,
   "id": "ae21b864-a5e4-4307-85fa-b44c1bd84fd3",
   "metadata": {},
   "outputs": [],
   "source": []
  }
 ],
 "metadata": {
  "kernelspec": {
   "display_name": "Python 3 (ipykernel)",
   "language": "python",
   "name": "python3"
  },
  "language_info": {
   "codemirror_mode": {
    "name": "ipython",
    "version": 3
   },
   "file_extension": ".py",
   "mimetype": "text/x-python",
   "name": "python",
   "nbconvert_exporter": "python",
   "pygments_lexer": "ipython3",
   "version": "3.13.2"
  }
 },
 "nbformat": 4,
 "nbformat_minor": 5
}
